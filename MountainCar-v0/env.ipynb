{
 "cells": [
  {
   "cell_type": "markdown",
   "metadata": {},
   "source": [
    "## Exploring the Environment"
   ]
  },
  {
   "cell_type": "code",
   "execution_count": 1,
   "metadata": {},
   "outputs": [
    {
     "data": {
      "text/plain": [
       "array([-0.46746124,  0.        ])"
      ]
     },
     "execution_count": 1,
     "metadata": {},
     "output_type": "execute_result"
    }
   ],
   "source": [
    "import gym \n",
    "env = gym.make('MountainCar-v0')\n",
    "env.reset()"
   ]
  },
  {
   "cell_type": "code",
   "execution_count": 2,
   "metadata": {},
   "outputs": [
    {
     "name": "stdout",
     "output_type": "stream",
     "text": [
      "State space:  Box(2,)\n",
      "Action space:  Discrete(3)\n",
      "Observation space low:  [-1.2  -0.07]\n",
      "Observatino space high:  [0.6  0.07]\n"
     ]
    }
   ],
   "source": [
    "print(\"State space: \", env.observation_space)\n",
    "print(\"Action space: \", env.action_space)\n",
    "print(\"Observation space low: \", env.observation_space.low)\n",
    "print(\"Observatino space high: \", env.observation_space.high)"
   ]
  },
  {
   "cell_type": "code",
   "execution_count": 3,
   "metadata": {},
   "outputs": [
    {
     "name": "stdout",
     "output_type": "stream",
     "text": [
      "New state, reward, Reward, Termination:  (array([-4.67880283e-01, -4.19044071e-04]), -1.0, False, {})\n"
     ]
    }
   ],
   "source": [
    "print(\"New state, reward, Reward, Termination: \", env.step(1))"
   ]
  },
  {
   "cell_type": "markdown",
   "metadata": {},
   "source": [
    "## Solving the environment"
   ]
  },
  {
   "cell_type": "code",
   "execution_count": 6,
   "metadata": {},
   "outputs": [
    {
     "data": {
      "image/png": "[encoded data removed]",
      "text/plain": [
       "<Figure size 648x648 with 1 Axes>"
      ]
     },
     "metadata": {},
     "output_type": "display_data"
    }
   ],
   "source": [
    "import time\n",
    "from IPython import display\n",
    "import numpy as np\n",
    "import pandas as pd\n",
    "import gym \n",
    "from tqdm import tqdm\n",
    "import matplotlib.pyplot as plt \n",
    "%matplotlib inline\n",
    "import seaborn as sns\n",
    "sns.set_style(\"whitegrid\")\n",
    "\n",
    "np.random.seed(2019)\n",
    "\n",
    "# Import and initialize Mountain Car Envrionment \n",
    "env = gym.make(\"MountainCar-v0\")\n",
    "env.reset()\n",
    "\n",
    "plt.figure(figsize=(9,9))\n",
    "\n",
    "img = plt.imshow(env.render(mode='rgb_array'))"
   ]
  },
  {
   "cell_type": "code",
   "execution_count": 4,
   "metadata": {},
   "outputs": [
    {
     "name": "stderr",
     "output_type": "stream",
     "text": [
      "100%|██████████| 10000/10000 [00:45<00:00, 221.25it/s]\n"
     ]
    }
   ],
   "source": [
    "def run_training(env, learning_rate, discount, epsilon, min_eps, episodes, monitor_reward_eps=10):\n",
    "    \"\"\"\n",
    "    env: Environment \n",
    "    learning rate: learning rate\n",
    "    discount: discount factor\n",
    "    epsilon: epsilon value \n",
    "    min_epsilon: minimal limit for epsilon value \n",
    "    episodes: total_number of episodes\n",
    "    \"\"\"\n",
    "    # Determine size of discretezed state space \n",
    "    num_states = (env.observation_space.high - env.observation_space.low) * np.array([10, 100])\n",
    "    num_states = np.round(num_states, 0).astype(int) + 1\n",
    "    \n",
    "    # Initialize Q table \n",
    "    Q = np.random.uniform(low=-1, high=1, size=(num_states[0], num_states[1], env.action_space.n))\n",
    "    \n",
    "    # Initialize variables to track rewards \n",
    "    reward_list = []\n",
    "    avg_reward_list = []\n",
    "    \n",
    "    # Calculate episodic reduction in epsilon\n",
    "    eps_reduction = (epsilon - min_eps) / episodes \n",
    "    \n",
    "    # Run Q-learning algorithm \n",
    "    for i_episode in tqdm(range(episodes)):\n",
    "        reward_total, reward_step = 0, 0\n",
    "        state = env.reset()\n",
    "                \n",
    "        # Discretize space \n",
    "        state_discrete = (state - env.observation_space.low) * np.array([10, 100])\n",
    "        state_discrete = np.round(state_discrete, 0).astype(int)\n",
    "        \n",
    "        while True:\n",
    "            # Render environment for last five episodes \n",
    "            #if i_episode == episodes-1:\n",
    "            #    # Too slow!\n",
    "            #    plt.imshow(env.render(mode='rgb_array'))\n",
    "            #    display.display(plt.gcf())\n",
    "            #    display.clear_output(wait=True)\n",
    "                \n",
    "            # Epsilon greedy strategy \n",
    "            if np.random.random() < 1 - epsilon:\n",
    "                action = np.argmax(Q[state_discrete[0], state_discrete[1]])\n",
    "            else:\n",
    "                action = np.random.randint(0, env.action_space.n)\n",
    "                \n",
    "            # Get next state and reward \n",
    "            next_state, reward_step, done, info = env.step(action)\n",
    "            \n",
    "            # Discretize next state \n",
    "            next_state_discrete = (next_state - env.observation_space.low) * np.array([10, 100])\n",
    "            next_state_discrete = np.round(next_state_discrete, 0).astype(int)\n",
    "            \n",
    "            # Allow for terminal states \n",
    "            if done and next_state[0] >= 0.5:\n",
    "                Q[state_discrete[0], state_discrete[1], action] = reward_step\n",
    "            # Update Q-value\n",
    "            else:\n",
    "                delta = learning_rate * (reward_step + discount * np.max(Q[next_state_discrete[0], next_state_discrete[1]]) - Q[state_discrete[0], state_discrete[1], action])\n",
    "                Q[state_discrete[0], state_discrete[1], action] += delta \n",
    "                \n",
    "            # Update variables \n",
    "            reward_total += reward_step\n",
    "            state_discrete = next_state_discrete\n",
    "            \n",
    "            if done: break\n",
    "            \n",
    "        # Decay epsilon\n",
    "        if epsilon > min_eps:\n",
    "            epsilon -= eps_reduction\n",
    "            \n",
    "        # Track rewards\n",
    "        reward_list.append(reward_total)\n",
    "        \n",
    "        if (i_episode + 1) % monitor_reward_eps == 0:\n",
    "            avg_reward = np.mean(reward_list)\n",
    "            avg_reward_list.append(avg_reward)\n",
    "            reward_list = []\n",
    "            \n",
    "    env.close()\n",
    "        \n",
    "    return avg_reward_list\n",
    "    \n",
    "# Run Q-learning algorithm \n",
    "rewards = run_training(env, 0.2, 0.9, 0.8, 0, 10_000)"
   ]
  },
  {
   "cell_type": "code",
   "execution_count": 5,
   "metadata": {},
   "outputs": [
    {
     "data": {
      "image/png": "[encoded data removed]",
      "text/plain": [
       "<Figure size 600x300 with 1 Axes>"
      ]
     },
     "metadata": {
      "needs_background": "light"
     },
     "output_type": "display_data"
    }
   ],
   "source": [
    "# Plot rewards\n",
    "plt.figure(figsize=(6, 3), dpi=100)\n",
    "data = np.array([100 * (np.arange(len(rewards)) + 1), rewards]).T\n",
    "df = pd.DataFrame(data, columns=['Episodes', 'Rewards'])\n",
    "plt.title(\"Average Reward vs Episode\")\n",
    "sns.lineplot(data=df, x='Episodes', y='Rewards')\n",
    "plt.savefig(\"reward.jpg\")"
   ]
  },
  {
   "cell_type": "code",
   "execution_count": null,
   "metadata": {},
   "outputs": [],
   "source": []
  }
 ],
 "metadata": {
  "kernelspec": {
   "display_name": "Python 3",
   "language": "python",
   "name": "python3"
  },
  "language_info": {
   "codemirror_mode": {
    "name": "ipython",
    "version": 3
   },
   "file_extension": ".py",
   "mimetype": "text/x-python",
   "name": "python",
   "nbconvert_exporter": "python",
   "pygments_lexer": "ipython3",
   "version": "3.7.3"
  }
 },
 "nbformat": 4,
 "nbformat_minor": 2
}
